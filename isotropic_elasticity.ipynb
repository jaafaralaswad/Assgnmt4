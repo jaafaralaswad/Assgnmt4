{
 "cells": [
  {
   "cell_type": "markdown",
   "metadata": {},
   "source": [
    "# Linear elasticity problem"
   ]
  },
  {
   "cell_type": "markdown",
   "metadata": {},
   "source": [
    "We start by importing the necessary libraries."
   ]
  },
  {
   "cell_type": "code",
   "execution_count": 167,
   "metadata": {},
   "outputs": [],
   "source": [
    "# ----------------------------------------------------\n",
    "# Essential Imports for FEniCSx Simulation\n",
    "# ----------------------------------------------------\n",
    "\n",
    "# NumPy: numerical operations, array manipulation\n",
    "import numpy as np\n",
    "\n",
    "# UFL: symbolic math language for defining weak forms\n",
    "from ufl import (\n",
    "    grad,                  # Gradient operator\n",
    "    sym,                   # Symmetric part of tensor\n",
    "    Identity,              # Identity tensor\n",
    "    tr,                    # Trace of a tensor\n",
    "    inner,                 # Inner product (dot product or double contraction)\n",
    "    Measure,               # For defining integration domains (dx, ds)\n",
    "    TestFunction,          # Virtual test function (v)\n",
    "    TrialFunction          # Unknown trial function (u)\n",
    ")\n",
    "\n",
    "# MPI: parallel computing support (used internally by dolfinx)\n",
    "from mpi4py import MPI\n",
    "\n",
    "# FEniCSx core modules\n",
    "from dolfinx import fem, io                          # FEM tools and I/O for XDMF, VTK, etc.\n",
    "import dolfinx.fem.petsc                             # PETSc-based solvers (linear/nonlinear)\n",
    "from dolfinx.mesh import create_rectangle, CellType  # Mesh generation and cell types"
   ]
  },
  {
   "cell_type": "markdown",
   "metadata": {},
   "source": [
    "Now, we define the problem. It is a rectangular beam of dimensions $10 \\times 1$ that we will mesh using quadrilateral elements."
   ]
  },
  {
   "cell_type": "code",
   "execution_count": 168,
   "metadata": {},
   "outputs": [
    {
     "name": "stdout",
     "output_type": "stream",
     "text": [
      "Mesh topology dimension d=2.\n"
     ]
    }
   ],
   "source": [
    "# ----------------------------------------------------\n",
    "# Define Physical Dimensions of the Domain\n",
    "# ----------------------------------------------------\n",
    "\n",
    "length, height = 10, 1.0   # Length and height of the rectangular domain (in user-defined units)\n",
    "\n",
    "# ----------------------------------------------------\n",
    "# Set Mesh Resolution (Number of Elements)\n",
    "# ----------------------------------------------------\n",
    "\n",
    "Nx, Ny = 200, 40             # Number of elements in x- and y-directions\n",
    "\n",
    "# ----------------------------------------------------\n",
    "# Create a Structured Rectangular Mesh\n",
    "# ----------------------------------------------------\n",
    "\n",
    "domain = create_rectangle(\n",
    "    MPI.COMM_WORLD,                         # MPI communicator (parallel execution support)\n",
    "    [np.array([0, 0]), np.array([length, height])],  # Lower-left and upper-right corners of the rectangle\n",
    "    [Nx, Ny],                               # Number of cells (elements) in x and y\n",
    "    cell_type=CellType.quadrilateral        # Use structured quadrilateral elements (not triangles)\n",
    ")\n",
    "\n",
    "# ----------------------------------------------------\n",
    "# Get Mesh Dimension\n",
    "# ----------------------------------------------------\n",
    "\n",
    "dim = domain.topology.dim                  # Topological dimension of the mesh (2 for 2D)\n",
    "print(f\"Mesh topology dimension d={dim}.\") # Print: \"Mesh topology dimension d=2.\""
   ]
  },
  {
   "cell_type": "markdown",
   "metadata": {},
   "source": [
    "We now define a vector-valued finite element space using Lagrange elements of degree 1 for the displacement field. The function space V represents 2D vector fields (u_x, u_y). The solution function u_sol is initialized to store the computed displacements."
   ]
  },
  {
   "cell_type": "code",
   "execution_count": 169,
   "metadata": {},
   "outputs": [],
   "source": [
    "degree = 1\n",
    "# Polynomial degree of the finite element basis functions\n",
    "# \"P\" means Lagrange elements; degree 2 = quadratic\n",
    "\n",
    "shape = (dim,)\n",
    "# Specifies the shape of the function:\n",
    "# (dim,) makes it a vector field with `dim` components\n",
    "# For 2D problems → shape = (2,) → 2D vector-valued\n",
    "\n",
    "V = fem.functionspace(domain, (\"P\", degree, shape))\n",
    "# Define a vector-valued function space over the mesh `domain`\n",
    "# Using continuous Lagrange (\"P\") elements of the specified degree\n",
    "# Used for displacement, velocity, etc.\n",
    "\n",
    "u_sol = fem.Function(V, name=\"Displacement\")\n",
    "# Create a finite element function in space V\n",
    "# This will store the computed solution (e.g. displacement)\n",
    "# `name=\"Displacement\"` is useful for output visualization (e.g. in Paraview)\n"
   ]
  },
  {
   "cell_type": "markdown",
   "metadata": {},
   "source": [
    "We now define the various UFL expressions which will enter our variational formulation."
   ]
  },
  {
   "cell_type": "code",
   "execution_count": 170,
   "metadata": {},
   "outputs": [],
   "source": [
    "# ----------------------------------------------------\n",
    "# Linear Elasticity: Material Model Setup\n",
    "# ----------------------------------------------------\n",
    "\n",
    "# Material constants\n",
    "E = fem.Constant(domain, 210e3)  # Young's modulus (e.g., in MPa)\n",
    "nu = fem.Constant(domain, 0.3)   # Poisson's ratio\n",
    "\n",
    "# Lamé parameters (for isotropic linear elasticity)\n",
    "lmbda = E * nu / ((1 + nu) * (1 - 2 * nu))  # First Lamé parameter\n",
    "mu = E / (2 * (1 + nu))                     # Shear modulus (second Lamé parameter)\n",
    "\n",
    "# Strain tensor: ε(v) = ½(∇v + ∇vᵀ)\n",
    "def epsilon(v):\n",
    "    return sym(grad(v))\n",
    "\n",
    "# Stress tensor: σ(v) = λ tr(ε(v)) I + 2μ ε(v)\n",
    "def sigma(v):\n",
    "    return lmbda * tr(epsilon(v)) * Identity(dim) + 2 * mu * epsilon(v)\n"
   ]
  },
  {
   "cell_type": "markdown",
   "metadata": {},
   "source": [
    "We define the trial and test functions for the variational formulation. The body force is set as a constant downward force. The bilinear form a represents the stiffness matrix, and the linear form L represents the external force contribution. Integration is carried out over the domain."
   ]
  },
  {
   "cell_type": "code",
   "execution_count": 171,
   "metadata": {},
   "outputs": [],
   "source": [
    "# ----------------------------------------------------\n",
    "# Linear Elasticity Weak Form\n",
    "# ----------------------------------------------------\n",
    "\n",
    "# Trial and test functions for variational formulation\n",
    "u = TrialFunction(V)  # Unknown displacement field\n",
    "v = TestFunction(V)   # Test (virtual displacement) function\n",
    "\n",
    "# Body force (e.g., gravity acting in -y direction)\n",
    "rho = 2e-3                              # Material density\n",
    "g = 9.81                                # Gravity acceleration\n",
    "# f = fem.Constant(domain, np.array([0, -rho * g]))  # Constant body force vector\n",
    "f = fem.Constant(domain, np.array([0.0, -13.44]))\n",
    "\n",
    "# Define integration measure over the domain\n",
    "dx = Measure(\"dx\", domain=domain)\n",
    "\n",
    "# Weak form: bilinear form (stiffness) and linear form (external forces)\n",
    "a = inner(sigma(u), epsilon(v)) * dx   # Left-hand side (stiffness matrix)\n",
    "L = inner(f, v) * dx                   # Right-hand side (load vector)"
   ]
  },
  {
   "cell_type": "markdown",
   "metadata": {},
   "source": [
    "We can now define the boundary conditions"
   ]
  },
  {
   "cell_type": "code",
   "execution_count": 172,
   "metadata": {},
   "outputs": [],
   "source": [
    "# ----------------------------------------------------\n",
    "# Dirichlet Boundary Conditions\n",
    "# ----------------------------------------------------\n",
    "\n",
    "# Define geometric conditions for the left and right edges\n",
    "def left(x):\n",
    "    return np.isclose(x[0], 0)               # Left edge: x = 0\n",
    "\n",
    "def right(x):\n",
    "    return np.isclose(x[0], length)          # Right edge: x = length\n",
    "\n",
    "# Locate degrees of freedom on the specified boundaries\n",
    "left_dofs = fem.locate_dofs_geometrical(V, left)\n",
    "right_dofs = fem.locate_dofs_geometrical(V, right)\n",
    "\n",
    "# Apply zero displacement (u = [0, 0]) on both edges\n",
    "bcs = [\n",
    "    fem.dirichletbc(np.zeros((2,)), left_dofs, V),\n",
    "    fem.dirichletbc(np.zeros((2,)), right_dofs, V),\n",
    "]"
   ]
  },
  {
   "cell_type": "markdown",
   "metadata": {},
   "source": [
    "We define and solve the linear variational problem for displacement. A direct LU solver is used through PETSc. The computed displacement field is saved to a VTK file for visualization."
   ]
  },
  {
   "cell_type": "code",
   "execution_count": 173,
   "metadata": {},
   "outputs": [],
   "source": [
    "# ----------------------------------------------------\n",
    "# Solve the Linear System and Write Output (One Cell)\n",
    "# ----------------------------------------------------\n",
    "\n",
    "# Define and solve the linear variational problem: A u = b\n",
    "problem = fem.petsc.LinearProblem(\n",
    "    a,                         # Bilinear form (stiffness)\n",
    "    L,                         # Linear form (load)\n",
    "    u=u_sol,                   # Function to store the solution\n",
    "    bcs=bcs,                   # Dirichlet boundary conditions\n",
    "    petsc_options={            # PETSc solver options\n",
    "        \"ksp_type\": \"preonly\", # Use direct solver (no Krylov iterations)\n",
    "        \"pc_type\": \"lu\"        # LU factorization (exact solve)\n",
    "    }\n",
    ")\n",
    "problem.solve()                # Solve the system\n",
    "\n",
    "# Save the solution to a VTK file for visualization (e.g., in ParaView)\n",
    "vtk = io.VTKFile(domain.comm, \"linear_elasticity.pvd\", \"w\")\n",
    "vtk.write_function(u_sol)     # Write the displacement field\n",
    "vtk.close()                   # Close the file properly"
   ]
  },
  {
   "cell_type": "markdown",
   "metadata": {},
   "source": [
    "## Verify with analytical solution"
   ]
  },
  {
   "cell_type": "markdown",
   "metadata": {},
   "source": [
    "After solving, we extract the degrees of freedom coordinates and solution values."
   ]
  },
  {
   "cell_type": "code",
   "execution_count": 174,
   "metadata": {},
   "outputs": [
    {
     "name": "stdout",
     "output_type": "stream",
     "text": [
      "Maximum upward vertical displacement (Y) = 0.000000e+00\n",
      "Maximum downward vertical displacement (Y) = -2.047819e-02\n"
     ]
    }
   ],
   "source": [
    "# After solving\n",
    "\n",
    "# Get DoF coordinates\n",
    "coords = V.tabulate_dof_coordinates()  # (num_dofs, 2)\n",
    "\n",
    "# Get solution values\n",
    "u_array = u_sol.x.array\n",
    "\n",
    "# Identify Y-component DoFs\n",
    "is_y_component = np.arange(len(u_array)) % 2 == 1\n",
    "\n",
    "# Get Y displacements\n",
    "y_displacements = u_array[is_y_component]\n",
    "\n",
    "# Find maximum and minimum Y displacement\n",
    "max_y = np.max(y_displacements)\n",
    "min_y = np.min(y_displacements)\n",
    "\n",
    "print(f\"Maximum upward vertical displacement (Y) = {max_y:.6e}\")\n",
    "print(f\"Maximum downward vertical displacement (Y) = {min_y:.6e}\")\n"
   ]
  },
  {
   "cell_type": "markdown",
   "metadata": {},
   "source": [
    "Displacement of roughly -0.02 agrees well with analytical solution of clamped-clamped beam under uniform loading where\n",
    "\n",
    "$$\n",
    "\\delta_{\\text{max}} = \\frac{q L^4}{384 E I}\n",
    "$$\n",
    "\n",
    "Substituting the known values:\n",
    "\n",
    "$$\n",
    "\\delta_{\\text{max}} = \\frac{13.44 \\times 10^4}{384 \\times 210000 \\times 0.083333} = 0.02\n",
    "$$"
   ]
  },
  {
   "cell_type": "markdown",
   "metadata": {},
   "source": [
    "## Mesh refinement"
   ]
  },
  {
   "cell_type": "markdown",
   "metadata": {},
   "source": [
    "Here, we plot the displacement got using different element sizes. The values were obtained by running the code several times and recording the values."
   ]
  },
  {
   "cell_type": "code",
   "execution_count": 175,
   "metadata": {},
   "outputs": [
    {
     "data": {
      "image/png": "[encoded data removed]",
      "text/plain": [
       "<Figure size 800x500 with 1 Axes>"
      ]
     },
     "metadata": {},
     "output_type": "display_data"
    }
   ],
   "source": [
    "import matplotlib.pyplot as plt\n",
    "\n",
    "# Given data\n",
    "data = np.array([\n",
    "    [1, 1, 0],\n",
    "        [2, 1, -2.080000e-03],\n",
    "    [3, 1, -3.254888e-03],\n",
    "    [10, 1, -1.317333e-02],\n",
    "    [10, 2, -1.425035e-02],\n",
    "    [10, 5, -1.470030e-02],\n",
    "    [20, 10, -1.855412e-02],\n",
    "    [100, 20, -2.038957e-02],\n",
    "])\n",
    "\n",
    "length = 10\n",
    "height = 1\n",
    "\n",
    "Nx = data[:, 0]\n",
    "Ny = data[:, 1]\n",
    "displacement = data[:, 2]\n",
    "\n",
    "# Element area\n",
    "element_area = (length * height) / (Nx * Ny)\n",
    "\n",
    "# Assume finest mesh result is \"exact\"\n",
    "displacement_exact = -2.047819e-02\n",
    "\n",
    "# Compute absolute error\n",
    "error = np.abs(displacement - displacement_exact)\n",
    "\n",
    "# Plot error vs element size\n",
    "plt.figure(figsize=(8, 5))\n",
    "plt.loglog(element_area, error, 'o-', linewidth=2)\n",
    "plt.xlabel(\"Element Area (mm²)\", fontsize=12)\n",
    "plt.ylabel(\"Absolute Error in Displacement (mm)\", fontsize=12)\n",
    "plt.title(\"Convergence Plot: Error vs Element Size\", fontsize=14)\n",
    "plt.grid(True, which=\"both\")\n",
    "plt.gca().invert_xaxis()\n",
    "plt.show()\n"
   ]
  },
  {
   "cell_type": "markdown",
   "metadata": {},
   "source": [
    "## Code Failure"
   ]
  },
  {
   "cell_type": "markdown",
   "metadata": {},
   "source": [
    "Code fails when the mesh is not refined enough. This is evident from above plot."
   ]
  }
 ],
 "metadata": {
  "kernelspec": {
   "display_name": "Python 3",
   "language": "python",
   "name": "python3"
  },
  "language_info": {
   "codemirror_mode": {
    "name": "ipython",
    "version": 3
   },
   "file_extension": ".py",
   "mimetype": "text/x-python",
   "name": "python",
   "nbconvert_exporter": "python",
   "pygments_lexer": "ipython3",
   "version": "3.13.3"
  }
 },
 "nbformat": 4,
 "nbformat_minor": 2
}
